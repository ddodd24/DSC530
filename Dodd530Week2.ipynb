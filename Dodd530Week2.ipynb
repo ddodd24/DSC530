{
 "cells": [
  {
   "cell_type": "code",
   "execution_count": null,
   "id": "f8d727b6",
   "metadata": {},
   "outputs": [],
   "source": [
    "# Display the text “Hello World! My name is ....\"\n",
    "print(\"Hello World! My name is Denise.\")\n",
    "\n",
    "# Add two numbers together\n",
    "print(3 + 2)\n",
    "\n",
    "# Subtract a number from another number\n",
    "print(6 - 2)\n",
    "\n",
    "# Multiply two numbers\n",
    "print(3 * 5)\n",
    "\n",
    "#Divide between two numbers\n",
    "print(20 / 4)\n",
    "\n",
    "# Concatenate two strings together (any words)\n",
    "string1 = \"Hello\"\n",
    "string2 = \"World\"\n",
    "string3 = string1 +\" \"+ string2\n",
    "print(string3)\n",
    "\n",
    "# Create a list of 4 items (can be strings, numbers, both)\n",
    "list1 = [\"a\", \"b\", \"c\", \"d\"]\n",
    "print(list1)\n",
    "\n",
    "# Append an item to your list (again, can be a string, number)\n",
    "list1.append(\"e\")\n",
    "print(list1)\n",
    "\n",
    "# Create a tuple with 4 items (can be strings, numbers, both)\n",
    "tuple1 = (1, 2, 3, 4)\n",
    "print(tuple1)"
   ]
  },
  {
   "cell_type": "code",
   "execution_count": null,
   "id": "9a14b1eb",
   "metadata": {},
   "outputs": [],
   "source": []
  }
 ],
 "metadata": {
  "kernelspec": {
   "display_name": "Python 3 (ipykernel)",
   "language": "python",
   "name": "python3"
  },
  "language_info": {
   "codemirror_mode": {
    "name": "ipython",
    "version": 3
   },
   "file_extension": ".py",
   "mimetype": "text/x-python",
   "name": "python",
   "nbconvert_exporter": "python",
   "pygments_lexer": "ipython3",
   "version": "3.10.9"
  }
 },
 "nbformat": 4,
 "nbformat_minor": 5
}
